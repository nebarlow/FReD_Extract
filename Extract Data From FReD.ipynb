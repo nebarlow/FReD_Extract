{
 "cells": [
  {
   "cell_type": "markdown",
   "metadata": {},
   "source": [
    "# Extract data from FReD:\n",
    "## http://reflectance.co.uk\n",
    "\n",
    "\n",
    "For simplicity, use python selenium to extract the raw spectra and meta data\n",
    "\n",
    "1> find the HTML table, then use pandas 'read_html' to load into a DataFrame.\n",
    "\n",
    "2> iterate through the sample IDs and either extract the spectra or save the CSV files. Remember to switch to the 'iframe'"
   ]
  },
  {
   "cell_type": "code",
   "execution_count": 172,
   "metadata": {},
   "outputs": [],
   "source": [
    "# standard imports\n",
    "import pandas as pd\n",
    "import numpy as np\n",
    "import re\n",
    "from selenium import webdriver"
   ]
  },
  {
   "cell_type": "code",
   "execution_count": 179,
   "metadata": {},
   "outputs": [],
   "source": [
    "# start up selenium, put in your own chromedriver directory here:\n",
    "driver = webdriver.Chrome(r\"C:/Users/nebar/OneDrive/Documents/Python Scripts/Web Scrape/chromedriver.exe\")\n",
    "url = \"http://reflectance.co.uk//advanceresults.php?bcolourc=Bee%20Colour&hcolourc=Human%20Colour&maincolourc=Main%20Colour&flowersectc=Flower%20Section&altitudec=Altitude&heightc=Height&tubec=tube&corollac=Corolla&pollinatorc=Pollinator&familyc=Family&genusc=Genus&speciesc=Species&countryc=Country&townc=&eastc=&southc=&collectorc=&publicationc=&accessionc=&family=*Any%20Family*&genus=*Any%20Genus*&species=*Any%20Species*&country=*Any%20Country*&town=*Any%20Town*&bcolour=*Any%20Colour*&hcolour=*Any%20Colour*&flowersect=*Any%20Section*&pollinator=*Any%20Pollinator*&collector=*Any%20Collector*&maincolour=*Do%20not%20mind*&altitudegreat=-1&altitudeless=2801&heightgreat=-1&heightless=1001&tubegreat=-1&tubeless=61&corollagreat=-1&corollaless=161\"\n",
    "driver.get(url)"
   ]
  },
  {
   "cell_type": "markdown",
   "metadata": {},
   "source": [
    "# Extract Meta Data"
   ]
  },
  {
   "cell_type": "code",
   "execution_count": 96,
   "metadata": {},
   "outputs": [],
   "source": [
    "# keep the string in m\n",
    "m = driver.find_element_by_xpath(\"//table\").get_attribute(\"innerHTML\")"
   ]
  },
  {
   "cell_type": "code",
   "execution_count": 101,
   "metadata": {},
   "outputs": [],
   "source": [
    "# parse the string of the html into a DataFrame, then it just happens to be the 3rd [2] dataframe,\n",
    "# also make sure that the ID is a string, else you lose trailing 0's\n",
    "raw_df = pd.read_html(m, header=0, converters={\"ID\": str})[2]"
   ]
  },
  {
   "cell_type": "code",
   "execution_count": 102,
   "metadata": {},
   "outputs": [],
   "source": [
    "# drop the druplicates and only take samples with ID number that is not NaN\n",
    "df_clean = raw_df[~raw_df.ID.isnull()].drop_duplicates()"
   ]
  },
  {
   "cell_type": "code",
   "execution_count": 103,
   "metadata": {},
   "outputs": [
    {
     "name": "stdout",
     "output_type": "stream",
     "text": [
      "there are 2231 samples\n"
     ]
    },
    {
     "data": {
      "text/html": [
       "<div>\n",
       "<style scoped>\n",
       "    .dataframe tbody tr th:only-of-type {\n",
       "        vertical-align: middle;\n",
       "    }\n",
       "\n",
       "    .dataframe tbody tr th {\n",
       "        vertical-align: top;\n",
       "    }\n",
       "\n",
       "    .dataframe thead th {\n",
       "        text-align: right;\n",
       "    }\n",
       "</style>\n",
       "<table border=\"1\" class=\"dataframe\">\n",
       "  <thead>\n",
       "    <tr style=\"text-align: right;\">\n",
       "      <th></th>\n",
       "      <th>ID</th>\n",
       "      <th>Bee Colour</th>\n",
       "      <th>Human Colour</th>\n",
       "      <th>Main Colour</th>\n",
       "      <th>Flower Section</th>\n",
       "      <th>Altitude</th>\n",
       "      <th>Height</th>\n",
       "      <th>tube</th>\n",
       "      <th>Corolla</th>\n",
       "      <th>Pollinator</th>\n",
       "      <th>Family</th>\n",
       "      <th>Genus</th>\n",
       "      <th>Species</th>\n",
       "      <th>Country</th>\n",
       "    </tr>\n",
       "  </thead>\n",
       "  <tbody>\n",
       "    <tr>\n",
       "      <th>0</th>\n",
       "      <td>155</td>\n",
       "      <td>blue</td>\n",
       "      <td>blue</td>\n",
       "      <td>NaN</td>\n",
       "      <td>radially symmetric, whole flower upper side</td>\n",
       "      <td>1060.0</td>\n",
       "      <td>0.0</td>\n",
       "      <td>7.0</td>\n",
       "      <td>5.0</td>\n",
       "      <td>NaN</td>\n",
       "      <td>Boraginaceae</td>\n",
       "      <td>Anchusa</td>\n",
       "      <td>sp.</td>\n",
       "      <td>Italy</td>\n",
       "    </tr>\n",
       "    <tr>\n",
       "      <th>2</th>\n",
       "      <td>267</td>\n",
       "      <td>blue</td>\n",
       "      <td>blue</td>\n",
       "      <td>NaN</td>\n",
       "      <td>radially symmetric, flower tip upper side</td>\n",
       "      <td>1500.0</td>\n",
       "      <td>0.0</td>\n",
       "      <td>0.0</td>\n",
       "      <td>50.0</td>\n",
       "      <td>NaN</td>\n",
       "      <td>Scrophulariaceae</td>\n",
       "      <td>Euphrasia</td>\n",
       "      <td>rostkoviana</td>\n",
       "      <td>Austria</td>\n",
       "    </tr>\n",
       "    <tr>\n",
       "      <th>4</th>\n",
       "      <td>431</td>\n",
       "      <td>blue</td>\n",
       "      <td>blue</td>\n",
       "      <td>Y</td>\n",
       "      <td>zygomorphic, lip lower side</td>\n",
       "      <td>1900.0</td>\n",
       "      <td>0.0</td>\n",
       "      <td>8.0</td>\n",
       "      <td>9.0</td>\n",
       "      <td>NaN</td>\n",
       "      <td>Scrophulariaceae</td>\n",
       "      <td>Euphrasia</td>\n",
       "      <td>rostkoviana</td>\n",
       "      <td>Italy</td>\n",
       "    </tr>\n",
       "    <tr>\n",
       "      <th>6</th>\n",
       "      <td>677</td>\n",
       "      <td>blue</td>\n",
       "      <td>pink</td>\n",
       "      <td>Y</td>\n",
       "      <td>flower tip</td>\n",
       "      <td>1200.0</td>\n",
       "      <td>0.0</td>\n",
       "      <td>10.0</td>\n",
       "      <td>14.0</td>\n",
       "      <td>NaN</td>\n",
       "      <td>Fabaceae</td>\n",
       "      <td>Lupinus</td>\n",
       "      <td>polyphyllus</td>\n",
       "      <td>Austria</td>\n",
       "    </tr>\n",
       "    <tr>\n",
       "      <th>8</th>\n",
       "      <td>679</td>\n",
       "      <td>blue</td>\n",
       "      <td>white</td>\n",
       "      <td>NaN</td>\n",
       "      <td>keel</td>\n",
       "      <td>1200.0</td>\n",
       "      <td>0.0</td>\n",
       "      <td>10.0</td>\n",
       "      <td>14.0</td>\n",
       "      <td>NaN</td>\n",
       "      <td>Fabaceae</td>\n",
       "      <td>Lupinus</td>\n",
       "      <td>polyphyllus</td>\n",
       "      <td>Austria</td>\n",
       "    </tr>\n",
       "  </tbody>\n",
       "</table>\n",
       "</div>"
      ],
      "text/plain": [
       "    ID Bee Colour Human Colour Main Colour  \\\n",
       "0  155       blue         blue         NaN   \n",
       "2  267       blue         blue         NaN   \n",
       "4  431       blue         blue           Y   \n",
       "6  677       blue         pink           Y   \n",
       "8  679       blue        white         NaN   \n",
       "\n",
       "                                Flower Section  Altitude  Height  tube  \\\n",
       "0  radially symmetric, whole flower upper side    1060.0     0.0   7.0   \n",
       "2    radially symmetric, flower tip upper side    1500.0     0.0   0.0   \n",
       "4                  zygomorphic, lip lower side    1900.0     0.0   8.0   \n",
       "6                                   flower tip    1200.0     0.0  10.0   \n",
       "8                                         keel    1200.0     0.0  10.0   \n",
       "\n",
       "   Corolla Pollinator            Family      Genus      Species  Country  \n",
       "0      5.0        NaN      Boraginaceae    Anchusa          sp.    Italy  \n",
       "2     50.0        NaN  Scrophulariaceae  Euphrasia  rostkoviana  Austria  \n",
       "4      9.0        NaN  Scrophulariaceae  Euphrasia  rostkoviana    Italy  \n",
       "6     14.0        NaN          Fabaceae    Lupinus  polyphyllus  Austria  \n",
       "8     14.0        NaN          Fabaceae    Lupinus  polyphyllus  Austria  "
      ]
     },
     "execution_count": 103,
     "metadata": {},
     "output_type": "execute_result"
    }
   ],
   "source": [
    "# check it worked and save the raw data\n",
    "print(f\"there are {len(df_clean)} samples\")\n",
    "df_clean.to_pickle(\"reflectance_meta.pkl\")\n",
    "df_clean.head()"
   ]
  },
  {
   "cell_type": "markdown",
   "metadata": {},
   "source": [
    "# Extract Raw Reflectance"
   ]
  },
  {
   "cell_type": "code",
   "execution_count": null,
   "metadata": {},
   "outputs": [],
   "source": [
    "# get every CSV file\n",
    "for i in list(set(df_clean.ID)):\n",
    "    # get the element and click\n",
    "    m = driver.find_element_by_xpath(f\"//table//tr[@id={i}]\")\n",
    "    m.click()\n",
    "    \n",
    "    # switch the the 'iframe', the click on download CSV\n",
    "    driver.switch_to.frame(driver.find_element_by_tag_name(\"iframe\"))\n",
    "    driver.find_element_by_xpath(\"//*[contains(text(), ' download CSV ')]\").click()\n",
    "    # don't forget to switch back\n",
    "    driver.switch_to.default_content()\n"
   ]
  },
  {
   "cell_type": "markdown",
   "metadata": {},
   "source": [
    "# Close Webdriver"
   ]
  },
  {
   "cell_type": "code",
   "execution_count": null,
   "metadata": {},
   "outputs": [],
   "source": [
    "driver.close()"
   ]
  }
 ],
 "metadata": {
  "kernelspec": {
   "display_name": "Python 3",
   "language": "python",
   "name": "python3"
  },
  "language_info": {
   "codemirror_mode": {
    "name": "ipython",
    "version": 3
   },
   "file_extension": ".py",
   "mimetype": "text/x-python",
   "name": "python",
   "nbconvert_exporter": "python",
   "pygments_lexer": "ipython3",
   "version": "3.7.6"
  }
 },
 "nbformat": 4,
 "nbformat_minor": 4
}
